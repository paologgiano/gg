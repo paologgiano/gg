{
 "cells": [
  {
   "cell_type": "code",
   "execution_count": 7,
   "metadata": {},
   "outputs": [],
   "source": [
    "#definisco una funzione h di prova\n",
    "tau=0.05\n",
    "t=arange(-10,10,tau)\n",
    "T=2.\n",
    "h=sin(2*pi*t/T)\n",
    "\n",
    "N=len(h)"
   ]
  },
  {
   "cell_type": "code",
   "execution_count": 4,
   "metadata": {},
   "outputs": [],
   "source": [
    "from pylab import *\n",
    "def my_dft(h,tau):\n",
    "    N=len(h)\n",
    "    H=zeros(N,dtype=\"complex\")\n",
    "    for n in range(N):\n",
    "        for k in range(N):\n",
    "                H[n] += h[k]*exp(2j*pi*k*n/N)\n",
    "    H*=tau\n",
    "    return H\n",
    "Transf_f1 = my_dft(h,tau)"
   ]
  },
  {
   "cell_type": "code",
   "execution_count": 5,
   "metadata": {},
   "outputs": [],
   "source": [
    "def my_antidft(H,tau):\n",
    "    N=len(H)\n",
    "    h=zeros(N,dtype=\"complex\")\n",
    "    for n in range(N):\n",
    "         for k in range(N):\n",
    "             h[n] += H[k]*exp(-2j*pi*k*n/N)\n",
    "    H *= 1/tau/N\n",
    "    return h\n"
   ]
  },
  {
   "cell_type": "code",
   "execution_count": 6,
   "metadata": {},
   "outputs": [
    {
     "name": "stderr",
     "output_type": "stream",
     "text": [
      "/Users/cmelis/opt/anaconda3/lib/python3.7/site-packages/numpy/core/_asarray.py:85: ComplexWarning: Casting complex values to real discards the imaginary part\n",
      "  return array(a, dtype, copy=False, order=order)\n"
     ]
    },
    {
     "data": {
      "text/plain": [
       "[<matplotlib.lines.Line2D at 0x118626f50>]"
      ]
     },
     "execution_count": 6,
     "metadata": {},
     "output_type": "execute_result"
    },
    {
     "data": {
      "image/png": "[encoded data removed]",
      "text/plain": [
       "<Figure size 432x288 with 1 Axes>"
      ]
     },
     "metadata": {
      "needs_background": "light"
     },
     "output_type": "display_data"
    }
   ],
   "source": [
    "Transf_f1 = my_dft(h,tau)\n",
    "f2 = my_antidft(Transf_f1,tau)\n",
    "xlim(0,40)\n",
    "plot(f2)"
   ]
  },
  {
   "cell_type": "code",
   "execution_count": null,
   "metadata": {},
   "outputs": [],
   "source": []
  }
 ],
 "metadata": {
  "kernelspec": {
   "display_name": "Python 3",
   "language": "python",
   "name": "python3"
  },
  "language_info": {
   "codemirror_mode": {
    "name": "ipython",
    "version": 3
   },
   "file_extension": ".py",
   "mimetype": "text/x-python",
   "name": "python",
   "nbconvert_exporter": "python",
   "pygments_lexer": "ipython3",
   "version": "3.7.4"
  }
 },
 "nbformat": 4,
 "nbformat_minor": 4
}
